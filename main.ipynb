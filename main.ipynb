{
 "cells": [
  {
   "cell_type": "code",
   "execution_count": null,
   "metadata": {
    "ExecuteTime": {
     "end_time": "2019-05-20T17:41:02.723292Z",
     "start_time": "2019-05-20T17:40:59.602278Z"
    }
   },
   "outputs": [],
   "source": [
    "# Imports\n",
    "\n",
    "import numpy as np\n",
    "import pandas as pd\n",
    "import random as rnd\n",
    "import os"
   ]
  },
  {
   "cell_type": "code",
   "execution_count": null,
   "metadata": {
    "ExecuteTime": {
     "end_time": "2019-05-20T17:41:02.728380Z",
     "start_time": "2019-05-20T17:41:02.725127Z"
    }
   },
   "outputs": [],
   "source": [
    "# Parameters\n",
    "\n",
    "PthData       = os.path.join('Data','patients.xlsx')\n",
    "Prop          = [0.7, 0.2, 0.1]\n",
    "BalanceFields = ['sex']"
   ]
  },
  {
   "cell_type": "code",
   "execution_count": null,
   "metadata": {
    "ExecuteTime": {
     "end_time": "2019-05-20T17:41:03.269023Z",
     "start_time": "2019-05-20T17:41:02.730026Z"
    }
   },
   "outputs": [],
   "source": [
    "# Create input data object:\n",
    "# list of dictionaries from Excel sheet\n",
    "\n",
    "xl = pd.ExcelFile(PthData,header=None)\n",
    "df = xl.parse(xl.sheet_names[0])\n",
    "\n",
    "ids = list(df.columns.values) # Get column names\n",
    "#print(ids)\n",
    "\n",
    "# Get names of labels\n",
    "labels = [l for l in df.loc[:,ids[0]]]\n",
    "labels = [ids[0]] + labels\n",
    "#print(labels)    \n",
    "\n",
    "# Remove first element\n",
    "ids = ids[1:]\n",
    "#print(ids)\n",
    "\n",
    "# Create list of dictionaries with patient information\n",
    "data = []\n",
    "for i in ids:\n",
    "    DictTemp            = {}\n",
    "    DictTemp[labels[0]] = i\n",
    "    c                   = 1\n",
    "    for l in df.loc[:,i]:\n",
    "        DictTemp[labels[c]] = l\n",
    "        c                   += 1\n",
    "    data.append(DictTemp)\n",
    "print(data)      "
   ]
  },
  {
   "cell_type": "code",
   "execution_count": null,
   "metadata": {
    "ExecuteTime": {
     "end_time": "2019-05-20T17:41:03.290756Z",
     "start_time": "2019-05-20T17:41:03.270608Z"
    }
   },
   "outputs": [],
   "source": [
    "# Create train, test and validation sets (lists)\n",
    "\n",
    "# Get number in each set\n",
    "N    = len(data)\n",
    "Ntrn = int(Prop[0]*N)\n",
    "Nval = int(Prop[1]*N)\n",
    "Ntes = N - Ntrn - Nval\n",
    "print('N=' + str(N) + ',Ntrn=' + str(Ntrn) + ',Nval=' + str(Nval) + ',Ntes=' + str(Ntes))\n",
    "\n",
    "# Make sets\n",
    "trn = []\n",
    "val = []\n",
    "tes = []\n",
    "for n in rnd.sample(range(N), N): # Loop over random integers in range(N)\n",
    "    if len(trn) < Ntrn:\n",
    "        trn.append(data[n])\n",
    "    elif len(val) < Nval:\n",
    "        val.append(data[n])        \n",
    "    else:\n",
    "        tes.append(data[n])                \n",
    "print(trn)        \n",
    "print(val)        \n",
    "print(tes)        "
   ]
  },
  {
   "cell_type": "code",
   "execution_count": null,
   "metadata": {
    "ExecuteTime": {
     "end_time": "2019-05-20T17:41:03.398128Z",
     "start_time": "2019-05-20T17:41:03.292435Z"
    }
   },
   "outputs": [],
   "source": [
    "def IncBalanceFields(data,BalanceFields):\n",
    "    # Here we want to minimise an objective function of the form:\n",
    "    # \\sum_s \\sum_b f(\\vt{x}_{sb},\\vt{y}_{sb})\n",
    "    # where\n",
    "    # \\sum_s sums over the three sets\n",
    "    # \\sum_b sums over the elements in BalanceFields\n",
    "    # f is a cost function that should have its minimum when all fields are balanced\n",
    "    # \\vt{x}_{sb} is a vector containing the current proportions for set s and field b\n",
    "    # \\vt{y}_{sb} is a vector containing the requested proportions for set s and field b\n",
    "    #___________________________________________________________\n",
    "    \n",
    "    if ~len(BalanceFields):\n",
    "        return data\n",
    "    \n",
    "    return data\n",
    "    "
   ]
  },
  {
   "cell_type": "code",
   "execution_count": null,
   "metadata": {
    "ExecuteTime": {
     "end_time": "2019-05-20T17:41:03.448035Z",
     "start_time": "2019-05-20T17:41:03.400105Z"
    }
   },
   "outputs": [],
   "source": [
    "# Incorporate BalanceFields\n",
    "# More complex version of sklearn.model_selection.StratifiedKFold\n",
    "\n",
    "data = IncBalanceFields(data,BalanceFields)"
   ]
  }
 ],
 "metadata": {
  "kernelspec": {
   "display_name": "Python 3",
   "language": "python",
   "name": "python3"
  },
  "language_info": {
   "codemirror_mode": {
    "name": "ipython",
    "version": 3
   },
   "file_extension": ".py",
   "mimetype": "text/x-python",
   "name": "python",
   "nbconvert_exporter": "python",
   "pygments_lexer": "ipython3",
   "version": "3.6.8"
  },
  "varInspector": {
   "cols": {
    "lenName": 16,
    "lenType": 16,
    "lenVar": 40
   },
   "kernels_config": {
    "python": {
     "delete_cmd_postfix": "",
     "delete_cmd_prefix": "del ",
     "library": "var_list.py",
     "varRefreshCmd": "print(var_dic_list())"
    },
    "r": {
     "delete_cmd_postfix": ") ",
     "delete_cmd_prefix": "rm(",
     "library": "var_list.r",
     "varRefreshCmd": "cat(var_dic_list()) "
    }
   },
   "types_to_exclude": [
    "module",
    "function",
    "builtin_function_or_method",
    "instance",
    "_Feature"
   ],
   "window_display": false
  }
 },
 "nbformat": 4,
 "nbformat_minor": 2
}
